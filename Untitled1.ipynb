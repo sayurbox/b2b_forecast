{
 "cells": [
  {
   "cell_type": "code",
   "execution_count": 9,
   "id": "60ae5c07",
   "metadata": {},
   "outputs": [],
   "source": [
    "import os\n",
    "from data_prep.load_data import CsvLoader, DatabaseLoader\n",
    "from data_prep.preprocess_data import preprocess_data"
   ]
  },
  {
   "cell_type": "code",
   "execution_count": 10,
   "id": "1e898277",
   "metadata": {},
   "outputs": [],
   "source": [
    "file_path = 'data/trainingData.csv'\n",
    "data_loader = CsvLoader(file_path)"
   ]
  },
  {
   "cell_type": "code",
   "execution_count": 11,
   "id": "1d06b246",
   "metadata": {},
   "outputs": [],
   "source": [
    "df = data_loader.load_raw_data()\n",
    "df2 = preprocess_data(df)"
   ]
  },
  {
   "cell_type": "code",
   "execution_count": 12,
   "id": "cc447d2f",
   "metadata": {},
   "outputs": [],
   "source": [
    "df2\n"
   ]
  },
  {
   "cell_type": "code",
   "execution_count": null,
   "id": "dd4f5519",
   "metadata": {},
   "outputs": [],
   "source": []
  }
 ],
 "metadata": {
  "kernelspec": {
   "display_name": "Python 3 (ipykernel)",
   "language": "python",
   "name": "python3"
  },
  "language_info": {
   "codemirror_mode": {
    "name": "ipython",
    "version": 3
   },
   "file_extension": ".py",
   "mimetype": "text/x-python",
   "name": "python",
   "nbconvert_exporter": "python",
   "pygments_lexer": "ipython3",
   "version": "3.9.12"
  }
 },
 "nbformat": 4,
 "nbformat_minor": 5
}
